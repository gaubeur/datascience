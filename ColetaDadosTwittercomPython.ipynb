{
 "cells": [
  {
   "cell_type": "markdown",
   "metadata": {},
   "source": [
    "    # conda install - c conda-forge textblob\n",
    "    # conda install - c conda-forge tweepy\n",
    "    # conda install - c conda-forge numpy"
   ]
  },
  {
   "cell_type": "code",
   "execution_count": null,
   "metadata": {},
   "outputs": [],
   "source": [
    "import tweepy\n",
    "from textblob import TextBlob as tb\n",
    "import numpy as np\n",
    "import json\n",
    "import pymongo"
   ]
  },
  {
   "cell_type": "code",
   "execution_count": null,
   "metadata": {},
   "outputs": [],
   "source": [
    "api_key = ''\n",
    "api_key_secret = ''\n",
    "access_token = ''\n",
    "access_token_secret = ''"
   ]
  },
  {
   "cell_type": "code",
   "execution_count": null,
   "metadata": {},
   "outputs": [],
   "source": [
    "# autenticação\n",
    "auth = tweepy.OAuthHandler(api_key, api_key_secret)\n",
    "auth.set_access_token(access_token, access_token_secret)\n",
    "api = tweepy.API(auth)"
   ]
  },
  {
   "cell_type": "code",
   "execution_count": null,
   "metadata": {},
   "outputs": [],
   "source": [
    "'''\n",
    "public_tweets = api.home_timeline()\n",
    "for tweet in public_tweets:\n",
    "    print(tweet.text)\n",
    "'''"
   ]
  },
  {
   "cell_type": "code",
   "execution_count": null,
   "metadata": {},
   "outputs": [],
   "source": [
    "#definir uma palavra que deseja pesquisar no twitter\n",
    "keyword = input('Informe a keyword')"
   ]
  },
  {
   "cell_type": "code",
   "execution_count": null,
   "metadata": {},
   "outputs": [],
   "source": [
    "#fazer a busca por palavra chave\n",
    "#tweets = api.search(q=keyword, count=100, result_type='mixed')\n",
    "tweets = api.search(q=keyword, count=1000, result_type='mixed', tweet_mode='extended', lang='pt')"
   ]
  },
  {
   "cell_type": "code",
   "execution_count": null,
   "metadata": {},
   "outputs": [],
   "source": [
    "#total de tweets coletados\n",
    "print(\"Total de Tweet(s) coletados %s.\" %  (len(tweets)))"
   ]
  },
  {
   "cell_type": "code",
   "execution_count": null,
   "metadata": {},
   "outputs": [],
   "source": [
    "#impressao do nome do usuario e texto\n",
    "for tweet in tweets:\n",
    "    print(\"Usuário: %s\" % {tweet.user.screen_name})\n",
    "    #print(\" Texto: %s\" % {tweet.text})\n",
    "    print(\" Texto: %s\" % {tweet.full_text}) #tweet_mode='extended'"
   ]
  },
  {
   "cell_type": "code",
   "execution_count": null,
   "metadata": {},
   "outputs": [],
   "source": [
    "#analise de polaridade \n",
    "#vamos usar a função sentiment_polarity do pacote textblob\n",
    "#retorna o valor -1 a 1 sendo que quanto mais proximo do 1 menos chateado a pessoa esta\n",
    "\n",
    "#variavel que vai armazenar as polaridades\n",
    "analysis = None\n",
    "#lista vazia para armazenar score\n",
    "tweet_score = []"
   ]
  },
  {
   "cell_type": "code",
   "execution_count": null,
   "metadata": {},
   "outputs": [],
   "source": [
    "#aqui estou executando a analise de polaridade\n",
    "for tweet in tweets:\n",
    "    print('**', tweet.full_text)\n",
    "    analysis = tb(tweet.full_text)\n",
    "    polarity = analysis.sentiment.polarity\n",
    "    tweet_score.append(polarity)"
   ]
  },
  {
   "cell_type": "code",
   "execution_count": null,
   "metadata": {},
   "outputs": [],
   "source": [
    "#vetor de polaridade\n",
    "print('Vetor de polaridade', tweet_score)"
   ]
  },
  {
   "cell_type": "code",
   "execution_count": null,
   "metadata": {},
   "outputs": [],
   "source": [
    "#média de sentimentos\n",
    "print('Média de Sentimentos : ' + str(np.mean(tweet_score)))"
   ]
  },
  {
   "cell_type": "code",
   "execution_count": null,
   "metadata": {},
   "outputs": [],
   "source": [
    "#ajustar o textblob(polaritics) para o idioma ingles ( que não foram postados em inglês )\n",
    "polarities_score = []\n",
    "\n",
    "for tweet in tweets:\n",
    "    analysis = tb(tweet.full_text)\n",
    "    \n",
    "    if analysis.detect_language != 'en':\n",
    "        traducao = tb(str(analysis.translate(to='en')))\n",
    "        print('Texto Traduzido %s' % traducao)\n",
    "        polarity = traducao.sentiment.polarity\n",
    "    else:\n",
    "        polarity = analysis.sentiment.polarity\n",
    "        \n",
    "    polarities_score.append(polarity)\n",
    "    \n"
   ]
  },
  {
   "cell_type": "code",
   "execution_count": null,
   "metadata": {},
   "outputs": [],
   "source": [
    "#vetor de polaridade\n",
    "print('Vetor de polaridade', polarities_score)"
   ]
  },
  {
   "cell_type": "code",
   "execution_count": null,
   "metadata": {},
   "outputs": [],
   "source": [
    "#média de sentimentos\n",
    "print('Média de Sentimentos : ' + str(np.mean(polarities_score)))"
   ]
  },
  {
   "cell_type": "code",
   "execution_count": null,
   "metadata": {},
   "outputs": [],
   "source": [
    "#armazenar a coleta em arquivo formato json\n",
    "local = 'c:\\igti'\n",
    "\n",
    "with open(local+'\\\\tweet_'+keyword+'.json', 'a', encoding='utf8') as filename:\n",
    "    \n",
    "    for tweet in tweets:\n",
    "        status = tweet\n",
    "        #converte para string\n",
    "        json_str = json.dumps(status._json)\n",
    "        #deserealiza a string para um objeto python dict\n",
    "        json_dict = json.loads(json_str)\n",
    "        #grava o tweet deserealizado no arquivo\n",
    "        json.dump(json_dict, filename, ensure_ascii=False, sort_keys=True, indent=4, separators=(',',':'))\n"
   ]
  },
  {
   "cell_type": "code",
   "execution_count": null,
   "metadata": {},
   "outputs": [],
   "source": [
    "#armazenar o mongoDB\n",
    "conexao = pymongo.MongoClient('localhost',27017)\n",
    "\n",
    "#banco de dados\n",
    "db = conexao.bdtweets"
   ]
  },
  {
   "cell_type": "code",
   "execution_count": null,
   "metadata": {},
   "outputs": [],
   "source": [
    "db.tweets_keywords.drop()"
   ]
  },
  {
   "cell_type": "code",
   "execution_count": null,
   "metadata": {},
   "outputs": [],
   "source": [
    "#seleciona a coleção\n",
    "collections = db.tweets_keywords"
   ]
  },
  {
   "cell_type": "code",
   "execution_count": null,
   "metadata": {},
   "outputs": [],
   "source": [
    "#lista a quantidade de tweets na colecao\n",
    "db.tweets_keywords.count_documents({})"
   ]
  },
  {
   "cell_type": "code",
   "execution_count": null,
   "metadata": {},
   "outputs": [],
   "source": [
    "i = 0\n",
    "for tweet in tweets:\n",
    "    db.tweets_keywords.insert_one(tweet._json)\n",
    "    i+= 1    "
   ]
  },
  {
   "cell_type": "code",
   "execution_count": null,
   "metadata": {},
   "outputs": [],
   "source": [
    "print('Quantidade de Tweets importados %s' % i)"
   ]
  },
  {
   "cell_type": "code",
   "execution_count": null,
   "metadata": {},
   "outputs": [],
   "source": [
    "db.tweets_keywords.find_one()"
   ]
  },
  {
   "cell_type": "code",
   "execution_count": null,
   "metadata": {},
   "outputs": [],
   "source": []
  }
 ],
 "metadata": {
  "kernelspec": {
   "display_name": "Python 3",
   "language": "python",
   "name": "python3"
  },
  "language_info": {
   "codemirror_mode": {
    "name": "ipython",
    "version": 3
   },
   "file_extension": ".py",
   "mimetype": "text/x-python",
   "name": "python",
   "nbconvert_exporter": "python",
   "pygments_lexer": "ipython3",
   "version": "3.8.3"
  }
 },
 "nbformat": 4,
 "nbformat_minor": 4
}
