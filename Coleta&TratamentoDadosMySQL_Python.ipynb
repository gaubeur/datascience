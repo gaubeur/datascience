{
 "cells": [
  {
   "cell_type": "markdown",
   "metadata": {},
   "source": [
    "# DATA SCIENCE - IGTI - DESAFIO MÓDULO 2 \n",
    "# Coleta/Tratamento de Dados no MySQL utilizando o Python"
   ]
  },
  {
   "cell_type": "markdown",
   "metadata": {},
   "source": [
    "#Author: Maurício Gaubeur\n",
    "#Email: gaubeur.m@gmail.com"
   ]
  },
  {
   "cell_type": "markdown",
   "metadata": {},
   "source": [
    "#pelo jupyter notebook\n",
    "#!pip install mysql-connector\n",
    "#pelo anaconda\n",
    "#conda install -c anaconda mysql-connector-python"
   ]
  },
  {
   "cell_type": "code",
   "execution_count": 1,
   "metadata": {},
   "outputs": [],
   "source": [
    "import mysql.connector\n",
    "import json\n",
    "import requests        \n",
    "from datetime import datetime\n",
    "from datetime import date\n",
    "import re"
   ]
  },
  {
   "cell_type": "code",
   "execution_count": 2,
   "metadata": {},
   "outputs": [
    {
     "name": "stdout",
     "output_type": "stream",
     "text": [
      "Data Atual :  10/10/2020\n"
     ]
    }
   ],
   "source": [
    "#Data base para apuração da idade \n",
    "data_atual = date.today()\n",
    "data_atual_formatada = data_atual.strftime('%d/%m/%Y')\n",
    "print(\"Data Atual : \", data_atual_formatada)"
   ]
  },
  {
   "cell_type": "code",
   "execution_count": 3,
   "metadata": {},
   "outputs": [],
   "source": [
    "#deixei fora da classe porque o codigo foi extraido a internet\n",
    "#https://groups.google.com/g/pug-ce/c/hlbeqjCW07M\n",
    "#crédito para Moacir Bispo Filho\n",
    "def yearsago(years, from_date=None):\n",
    "    if from_date is None:\n",
    "        from_date = datetime.now()\n",
    "    try:\n",
    "        return from_date.replace(year=from_date.year - years)\n",
    "    except:\n",
    "        # Must be 2/29!\n",
    "        assert from_date.month == 2 and from_date.day == 29 # can be removed\n",
    "        return from_date.replace(month=2, day=28,\n",
    "                                 year=from_date.year-years)\n",
    "\n",
    "def num_years(begin, end=None):\n",
    "    if end is None:\n",
    "        end = datetime.now()\n",
    "    num_years = int((end - begin).days / 365.25)\n",
    "    if begin > yearsago(num_years, end):\n",
    "        return num_years - 1\n",
    "    else:\n",
    "        return num_years\n",
    "    \n",
    "    "
   ]
  },
  {
   "cell_type": "code",
   "execution_count": 4,
   "metadata": {},
   "outputs": [],
   "source": [
    "class dataScience():  \n",
    "   \n",
    "    url = 'https://api-coleta-dados.herokuapp.com/api/pessoas'\n",
    "    \n",
    "    def __init__(self):\n",
    "        print(\"classe Instanciada\")\n",
    "        \n",
    "        \n",
    "    def leituraapi(self):\n",
    "        try:\n",
    "            return requests.get(dataScience.url)   \n",
    "        except:\n",
    "            print(\"Oops! Algum erro ocorreu na leitura da Api..\")\n",
    "            \n",
    "            \n",
    "    def conexao(self,myhost='localhost',myuser='root',mypassword=''):\n",
    "        try:\n",
    "            mydb = mysql.connector.connect(\n",
    "            host=myhost,\n",
    "            user=myuser,\n",
    "            password=mypassword)\n",
    "            \n",
    "            return mydb\n",
    "            \n",
    "        except Exception as e:\n",
    "            print(e.args)\n",
    "            print(\"Oops! Problema de conexão com o MySql\")\n",
    "            \n",
    "\n",
    "    def conexaodb(self,myhost='localhost',myuser='root',mypassword='',mydatabase=''):\n",
    "        try:\n",
    "            mydb = mysql.connector.connect(\n",
    "            host=myhost,\n",
    "            user=myuser,\n",
    "            password=mypassword,\n",
    "            database=mydatabase)\n",
    "            \n",
    "            return mydb\n",
    "            \n",
    "        except error as e:\n",
    "            print(\"Minha exceção ocorreu:\" + e.valor)\n",
    "            print(\"Oops! Problema de conexão com o Banco de Dados\")\n",
    "\n",
    "    \n",
    "    def drobdb(self,conexao):\n",
    "        try:\n",
    "            \n",
    "            mycursor = conexao.cursor()\n",
    "            \n",
    "            query = \"drop database bootcamp\"\n",
    "\n",
    "            mycursor.execute(query)\n",
    "\n",
    "            #Fazer a confirmação da inserção\n",
    "            conexao.commit()\n",
    "            \n",
    "            print(\"drop no database bootcamp realizado com sucesso\")\n",
    "            \n",
    "        except Exception as e:\n",
    "            print(e.args)\n",
    "            print(\"Oops! Problema de conexão com o MySql\")\n",
    "            \n",
    "            \n",
    "    def criarSchemabd(self,conexao):\n",
    "        try:\n",
    "            \n",
    "            mycursor = conexao.cursor()\n",
    "            \n",
    "            query =  \"CREATE SCHEMA IF NOT EXISTS `bootcamp` DEFAULT CHARACTER SET utf8mb4\"\n",
    "            mycursor.execute(query)\n",
    "            \n",
    "            query = \"USE `bootcamp`\"\n",
    "            mycursor.execute(query)\n",
    "            \n",
    "            query = \"CREATE TABLE IF NOT EXISTS `bootcamp`.`tb_cidade` \\\n",
    "                    (`id` INT NOT NULL AUTO_INCREMENT, \\\n",
    "                     `nome` VARCHAR(45) NOT NULL, \\\n",
    "                     `id_estado` INT, \\\n",
    "                      PRIMARY KEY (`id`)) \\\n",
    "                      ENGINE = InnoDB \\\n",
    "                      DEFAULT CHARACTER SET = utf8mb4 \\\n",
    "                      COLLATE = utf8mb4_0900_ai_ci;\"\n",
    "            mycursor.execute(query)\n",
    "            \n",
    "                      \n",
    "            query = \"CREATE TABLE IF NOT EXISTS `bootcamp`.`tb_estado` \\\n",
    "                    (`id` INT NOT NULL AUTO_INCREMENT, \\\n",
    "                     `sigla` VARCHAR(2) NOT NULL, \\\n",
    "                      PRIMARY KEY (`id`)) \\\n",
    "                      ENGINE = InnoDB \\\n",
    "                      DEFAULT CHARACTER SET = utf8mb4 \\\n",
    "                      COLLATE = utf8mb4_0900_ai_ci;\"\n",
    "            mycursor.execute(query)\n",
    "            \n",
    "            query = \"CREATE TABLE IF NOT EXISTS `bootcamp`.`tb_cor` \\\n",
    "                    (`id` INT NOT NULL AUTO_INCREMENT, \\\n",
    "                     `cor` VARCHAR(45) NOT NULL, \\\n",
    "                      PRIMARY KEY (`id`)) \\\n",
    "                      ENGINE = InnoDB \\\n",
    "                      DEFAULT CHARACTER SET = utf8mb4 \\\n",
    "                      COLLATE = utf8mb4_0900_ai_ci;\"\n",
    "            mycursor.execute(query)\n",
    "            \n",
    "            query = \"CREATE TABLE IF NOT EXISTS `bootcamp`.`tb_tiposanguineo` \\\n",
    "                    (`id` INT NOT NULL AUTO_INCREMENT, \\\n",
    "                     `tipo` VARCHAR(3) NOT NULL, \\\n",
    "                      PRIMARY KEY (`id`)) \\\n",
    "                      ENGINE = InnoDB \\\n",
    "                      DEFAULT CHARACTER SET = utf8mb4 \\\n",
    "                      COLLATE = utf8mb4_0900_ai_ci;\"\n",
    "            mycursor.execute(query)\n",
    "            \n",
    "            query = \"CREATE TABLE IF NOT EXISTS `bootcamp`.`tb_pessoa` \\\n",
    "                    (`id` INT NOT NULL AUTO_INCREMENT, \\\n",
    "                     `nome` VARCHAR(45) NOT NULL, \\\n",
    "                     `idade` INT NOT NULL, \\\n",
    "                     `data_nasc` DATETIME NOT NULL, \\\n",
    "                     `sexo` VARCHAR(1) NOT NULL, \\\n",
    "                     `signo` VARCHAR(45) NOT NULL, \\\n",
    "                     `altura` FLOAT NOT NULL, \\\n",
    "                     `peso` FLOAT NOT NULL, \\\n",
    "                     `id_cidade` INT NOT NULL, \\\n",
    "                     `id_cor` INT NOT NULL, \\\n",
    "                     `id_tiposanguineo` INT NOT NULL, \\\n",
    "                      PRIMARY KEY (`id`)) \\\n",
    "                      ENGINE = InnoDB \\\n",
    "                      DEFAULT CHARACTER SET = utf8mb4 \\\n",
    "                      COLLATE = utf8mb4_0900_ai_ci;\"\n",
    "            mycursor.execute(query)\n",
    "            \n",
    "            print(\"Schema Criado\")\n",
    "            \n",
    "        except Exception as e:\n",
    "            print(e.args)\n",
    "            print(\"Oops! Problema de conexão com o Banco de Dados\")\n",
    "            \n",
    "\n",
    "    def inseretbEstado(self,conexao,id,sigla):\n",
    "        try:\n",
    "            \n",
    "            mycursor = conexao.cursor()\n",
    "            \n",
    "            query = \"INSERT INTO tb_estado (id, sigla) VALUES (%s, %s)\"\n",
    "            values = (id, sigla)\n",
    "\n",
    "            mycursor.execute(query, values)\n",
    "\n",
    "            #Fazer a confirmação da inserção\n",
    "            conexao.commit()\n",
    "            \n",
    "        except Exception as e:\n",
    "            print(e.args)\n",
    "            print(\"Oops! Problema de conexão com o MySql\")\n",
    "\n",
    "    def inseretbCor(self,conexao,id,cor):\n",
    "        try:\n",
    "            \n",
    "            mycursor = conexao.cursor()\n",
    "            \n",
    "            query = \"INSERT INTO tb_cor (id, cor ) VALUES (%s, %s)\"\n",
    "            values = (id, cor)\n",
    "\n",
    "            mycursor.execute(query, values)\n",
    "\n",
    "            #Fazer a confirmação da inserção\n",
    "            conexao.commit()\n",
    "            \n",
    "        except Exception as e:\n",
    "            print(e.args)\n",
    "            print(\"Oops! Problema de conexão com o MySql\")\n",
    "            \n",
    "    def inseretbTipoSanguineo(self,conexao,id,tipo):\n",
    "        try:\n",
    "            \n",
    "            mycursor = conexao.cursor()\n",
    "            \n",
    "            query = \"INSERT INTO tb_tiposanguineo (id, tipo ) VALUES (%s, %s)\"\n",
    "            values = (id, tipo)\n",
    "\n",
    "            mycursor.execute(query, values)\n",
    "\n",
    "            #Fazer a confirmação da inserção\n",
    "            conexao.commit()\n",
    "            \n",
    "        except Exception as e:\n",
    "            print(e.args)\n",
    "            print(\"Oops! Problema de conexão com o MySql\")\n",
    "            \n",
    "    def inseretbCidade(self,conexao,id,nome,id_uf):\n",
    "        try:\n",
    "            \n",
    "            mycursor = conexao.cursor()\n",
    "            \n",
    "            query = \"INSERT INTO tb_cidade (id, nome, id_estado) VALUES (%s, %s, %s)\"\n",
    "            values = (id, nome, id_uf)\n",
    "\n",
    "            mycursor.execute(query, values)\n",
    "\n",
    "            #Fazer a confirmação da inserção\n",
    "            conexao.commit()\n",
    "            \n",
    "        except Exception as e:\n",
    "            print(e.args)\n",
    "            print(\"Oops! Problema de conexão com o MySql\")\n",
    "            \n",
    "            \n",
    "    def inseretbPessoa(self,conexao,nome,idade,datanasc,sexo,signo,altura,peso,idcidade,idcor,idtiposanguineo):\n",
    "        try:\n",
    "            \n",
    "            mycursor = conexao.cursor()\n",
    "            \n",
    "            query = \"INSERT INTO tb_pessoa (nome, idade, data_nasc, sexo, signo, altura, peso, id_cidade, id_cor, \\\n",
    "                    id_tiposanguineo) VALUES (%s, %s, %s, %s, %s, %s, %s, %s, %s, %s)\"\n",
    "            values = (nome, idade, datanasc, sexo, signo, altura, peso, idcidade, idcor, idtiposanguineo)\n",
    "\n",
    "            mycursor.execute(query, values)\n",
    "\n",
    "            #Fazer a confirmação da inserção\n",
    "            conexao.commit()\n",
    "            \n",
    "        except Exception as e:\n",
    "            print(e.args)\n",
    "            print(\"Oops! Problema de conexão com o MySql\")\n",
    "            "
   ]
  },
  {
   "cell_type": "markdown",
   "metadata": {},
   "source": [
    "**Processo de Criação da Base de Dados"
   ]
  },
  {
   "cell_type": "code",
   "execution_count": 5,
   "metadata": {},
   "outputs": [
    {
     "name": "stdout",
     "output_type": "stream",
     "text": [
      "classe Instanciada\n"
     ]
    }
   ],
   "source": [
    "#instância a Classe\n",
    "ds = dataScience()"
   ]
  },
  {
   "cell_type": "code",
   "execution_count": 6,
   "metadata": {},
   "outputs": [
    {
     "name": "stdout",
     "output_type": "stream",
     "text": [
      "drop no database bootcamp realizado com sucesso\n"
     ]
    }
   ],
   "source": [
    "#se for necessário drop no schema\n",
    "myconexao = ds.conexao('localhost','root','fvrg55472')\n",
    "#drop no database/schema\n",
    "ds.drobdb(myconexao) "
   ]
  },
  {
   "cell_type": "code",
   "execution_count": 7,
   "metadata": {},
   "outputs": [
    {
     "name": "stdout",
     "output_type": "stream",
     "text": [
      "Schema Criado\n"
     ]
    }
   ],
   "source": [
    "#abre a conexão\n",
    "myconexao = ds.conexao('localhost','root','fvrg55472')\n",
    "#cria a Schema do banco de dados\n",
    "ds.criarSchemabd(myconexao)\n"
   ]
  },
  {
   "cell_type": "code",
   "execution_count": 8,
   "metadata": {},
   "outputs": [],
   "source": [
    "#consome a api pessoas\n",
    "resposta = ds.leituraapi()\n",
    "if resposta.status_code != 200:\n",
    "    print(\"algum problema na leitura\")"
   ]
  },
  {
   "cell_type": "code",
   "execution_count": 9,
   "metadata": {},
   "outputs": [],
   "source": [
    "data = json.loads(resposta.text)"
   ]
  },
  {
   "cell_type": "code",
   "execution_count": 11,
   "metadata": {},
   "outputs": [],
   "source": [
    "#instancia as listas\n",
    "#observação : os indices na lista sempre começam com Zero mas no bd eu gravo sempre como inicial 1 porisso adiciono +1 no loop\n",
    "lstCores = []\n",
    "lstCidade = []\n",
    "lstUf = []\n",
    "lstTipoSanguineo = []\n",
    "\n",
    "#instancia um dicionario ( cidade x estado )\n",
    "dictCidxUf = {}\n",
    "\n",
    "indexador = 0\n",
    "for dados in data:\n",
    "    indexador += 1\n",
    "    #trata as cores\n",
    "    if lstCores.count(dados['cor']) == 0:\n",
    "        lstCores.append(dados['cor'])\n",
    "    #trata a UF\n",
    "    if lstUf.count(dados['estado']) == 0:\n",
    "        lstUf.append(dados['estado'])\n",
    "    #trata a Cidade\n",
    "    if lstCidade.count(dados['cidade']) == 0:\n",
    "        lstCidade.append(dados['cidade'])\n",
    "        #aqui fiz uma coisa muito loka ... crio um dicionario contendo como chave a cidade e como valor o estado\n",
    "        #para depois utilizar na carga da cidade com o indice do estado\n",
    "        dictCidxUf[dados['cidade']] = dados['estado'] \n",
    "    #trata a TipoSanquineo\n",
    "    if lstTipoSanguineo.count(dados['tipo_sanguineo']) == 0:\n",
    "        lstTipoSanguineo.append(dados['tipo_sanguineo'])\n",
    "        \n",
    "    "
   ]
  },
  {
   "cell_type": "code",
   "execution_count": 12,
   "metadata": {},
   "outputs": [],
   "source": [
    "#trata a lista Uf\n",
    "lista_ordenada_uf = sorted(lstUf)"
   ]
  },
  {
   "cell_type": "code",
   "execution_count": 13,
   "metadata": {},
   "outputs": [
    {
     "name": "stdout",
     "output_type": "stream",
     "text": [
      "Fim de Carga da Tabela Estado\n"
     ]
    }
   ],
   "source": [
    "myconexao = ds.conexaodb('localhost','root','fvrg55472','bootcamp')\n",
    "for i, sigla in enumerate(lista_ordenada_uf):\n",
    "    ds.inseretbEstado(myconexao,i+1,sigla)\n",
    "\n",
    "print(\"Fim de Carga da Tabela Estado\")\n",
    "    \n",
    "    "
   ]
  },
  {
   "cell_type": "code",
   "execution_count": 14,
   "metadata": {},
   "outputs": [],
   "source": [
    "#trata a lista Cor\n",
    "lista_ordenada_cor = sorted(lstCores)"
   ]
  },
  {
   "cell_type": "code",
   "execution_count": 15,
   "metadata": {},
   "outputs": [
    {
     "name": "stdout",
     "output_type": "stream",
     "text": [
      "Fim de Carga da Tabela Cor\n"
     ]
    }
   ],
   "source": [
    "myconexao = ds.conexaodb('localhost','root','fvrg55472','bootcamp')\n",
    "for i, cor in enumerate(lista_ordenada_cor):\n",
    "    ds.inseretbCor(myconexao,i+1,cor)\n",
    "\n",
    "print(\"Fim de Carga da Tabela Cor\")"
   ]
  },
  {
   "cell_type": "code",
   "execution_count": 16,
   "metadata": {},
   "outputs": [],
   "source": [
    "#trata a lista Tipo Sanquineo\n",
    "lista_ordenada_tiposanguineo = sorted(lstTipoSanguineo)"
   ]
  },
  {
   "cell_type": "code",
   "execution_count": 17,
   "metadata": {},
   "outputs": [
    {
     "name": "stdout",
     "output_type": "stream",
     "text": [
      "Fim de Carga da Tabela Tipo Sanguineo\n"
     ]
    }
   ],
   "source": [
    "myconexao = ds.conexaodb('localhost','root','fvrg55472','bootcamp')\n",
    "for i, tipo in enumerate(lista_ordenada_tiposanguineo):\n",
    "    ds.inseretbTipoSanguineo(myconexao,i+1,tipo)\n",
    "\n",
    "print(\"Fim de Carga da Tabela Tipo Sanguineo\")"
   ]
  },
  {
   "cell_type": "code",
   "execution_count": 18,
   "metadata": {},
   "outputs": [],
   "source": [
    "#trata a lista Cidade\n",
    "lista_ordenada_cidade = sorted(lstCidade)"
   ]
  },
  {
   "cell_type": "code",
   "execution_count": 19,
   "metadata": {},
   "outputs": [
    {
     "name": "stdout",
     "output_type": "stream",
     "text": [
      "Fim de Carga da Tabela Cidade\n"
     ]
    }
   ],
   "source": [
    "myconexao = ds.conexaodb('localhost','root','fvrg55472','bootcamp')\n",
    "for i, cidade in enumerate(lista_ordenada_cidade):\n",
    "    #captura a uf da cidade\n",
    "    getuf = dictCidxUf[cidade]\n",
    "    getindiceuf = lista_ordenada_uf.index(getuf) + 1\n",
    "    ds.inseretbCidade(myconexao,i+1,cidade,getindiceuf)\n",
    "    \n",
    "\n",
    "print(\"Fim de Carga da Tabela Cidade\")"
   ]
  },
  {
   "cell_type": "code",
   "execution_count": 20,
   "metadata": {},
   "outputs": [
    {
     "name": "stdout",
     "output_type": "stream",
     "text": [
      "Ajustar - Data de Nascimento : 12/06/1964 Idade apurada : 56\n",
      "Pessoa : Silvana Hadassa incluído com Sucesso\n",
      "Pessoa : Thales Kaique incluído com Sucesso\n",
      "Pessoa : Henry Nathan incluído com Sucesso\n",
      "Pessoa : Lorenzo Vinicius incluído com Sucesso\n",
      "Ajustar -  Data de Nascimento possivel : 09/03/1970 Idade : 50\n",
      "Pessoa : Cauã Henrique incluído com Sucesso\n",
      "Pessoa : Francisco Thomas incluído com Sucesso\n",
      "Ajustar - Data de Nascimento : 23/01/1949 Idade apurada : 71\n",
      "Pessoa : Bianca Flávia incluído com Sucesso\n",
      "Ajustar - Data de Nascimento : 23/12/1987 Idade apurada : 32\n",
      "Pessoa : Arthur Filipe incluído com Sucesso\n",
      "Ajustar - Data de Nascimento : 20/10/1968 Idade apurada : 51\n",
      "Pessoa : Teresinha Jaqueline incluído com Sucesso\n",
      "Pessoa : Manuel Luís incluído com Sucesso\n",
      "Ajustar - Data de Nascimento : 11/07/1968 Idade apurada : 52\n",
      "Pessoa : Jorge Nicolas incluído com Sucesso\n",
      "Pessoa : Ricardo Paulo incluído com Sucesso\n",
      "Pessoa : Gustavo Joaquim incluído com Sucesso\n",
      "Pessoa : Isabel Yasmin incluído com Sucesso\n",
      "Ajustar -  Data de Nascimento possivel : 22/01/1999 Idade : 21\n",
      "Pessoa : Daniel Lucca incluído com Sucesso\n",
      "Pessoa : Benício Guilherme incluído com Sucesso\n",
      "Ajustar - Data de Nascimento : 08/05/2002 Idade apurada : 18\n",
      "Pessoa : João Pedro incluído com Sucesso\n",
      "Pessoa : Sandra Milena incluído com Sucesso\n",
      "Ajustar -  Data de Nascimento possivel : 15/04/1971 Idade : 49\n",
      "Pessoa : Antonio Sérgio incluído com Sucesso\n",
      "Pessoa : Arthur Sérgio incluído com Sucesso\n",
      "Pessoa : Larissa Esther incluído com Sucesso\n",
      "Ajustar - Data de Nascimento : 18/04/1942 Idade apurada : 78\n",
      "Pessoa : Thales Bento incluído com Sucesso\n",
      "Pessoa : Breno Rafael incluído com Sucesso\n",
      "Pessoa : Tiago Gael incluído com Sucesso\n",
      "Ajustar - Data de Nascimento : 25/11/1959 Idade apurada : 60\n",
      "Pessoa : Carolina Márcia incluído com Sucesso\n",
      "Ajustar - Data de Nascimento : 21/08/1949 Idade apurada : 71\n",
      "Pessoa : Levi Sérgio incluído com Sucesso\n",
      "Pessoa : Juan Theo incluído com Sucesso\n",
      "Ajustar -  Data de Nascimento possivel : 10/01/1950 Idade : 70\n",
      "Pessoa : Rafael Ryan incluído com Sucesso\n",
      "Pessoa : Malu Emilly incluído com Sucesso\n",
      "Pessoa : Alice Bárbara incluído com Sucesso\n",
      "Ajustar -  Data de Nascimento possivel : 15/01/1985 Idade : 35\n",
      "Pessoa : Martin Edson incluído com Sucesso\n",
      "Pessoa : Danilo Jorge incluído com Sucesso\n",
      "Ajustar - Data de Nascimento : 03/07/1999 Idade apurada : 21\n",
      "Pessoa : Isadora Sueli incluído com Sucesso\n",
      "Pessoa : Maya Tatiane incluído com Sucesso\n",
      "Ajustar -  Data de Nascimento possivel : 14/09/1963 Idade : 57\n",
      "Pessoa : Bruno Manuel incluído com Sucesso\n",
      "Pessoa : Gabriel Luan incluído com Sucesso\n",
      "Pessoa : Henry Elias incluído com Sucesso\n",
      "Pessoa : Marcela Laura incluído com Sucesso\n",
      "Pessoa : Amanda Luna incluído com Sucesso\n",
      "Ajustar - Data de Nascimento : 07/09/1973 Idade apurada : 47\n",
      "Pessoa : Caio Ricardo incluído com Sucesso\n",
      "Pessoa : Mariane Sabrina incluído com Sucesso\n",
      "Pessoa : Juliana Vanessa incluído com Sucesso\n",
      "Ajustar - Data de Nascimento : 11/02/1989 Idade apurada : 31\n",
      "Pessoa : Milena Rosângela incluído com Sucesso\n",
      "Pessoa : Osvaldo Augusto incluído com Sucesso\n",
      "Pessoa : Nathan Igor incluído com Sucesso\n",
      "Pessoa : Letícia Patrícia incluído com Sucesso\n",
      "Pessoa : Sophia Andrea incluído com Sucesso\n",
      "Pessoa : Aurora Lúcia incluído com Sucesso\n",
      "Pessoa : Bruna Teresinha incluído com Sucesso\n",
      "Ajustar -  Data de Nascimento possivel : 08/10/1968 Idade : 52\n",
      "Pessoa : Erick Victor incluído com Sucesso\n",
      "Pessoa : Gabrielly Stella incluído com Sucesso\n",
      "Pessoa : Osvaldo Vitor incluído com Sucesso\n",
      "Pessoa : Alana Kamilly incluído com Sucesso\n",
      "Pessoa : Bryan Kaique incluído com Sucesso\n",
      "Pessoa : Benedito Renato incluído com Sucesso\n",
      "Ajustar - Data de Nascimento : 16/12/1971 Idade apurada : 48\n",
      "Pessoa : Kaique Isaac incluído com Sucesso\n",
      "Pessoa : Luiz Benjamin incluído com Sucesso\n",
      "Ajustar -  Data de Nascimento possivel : 24/12/1944 Idade : 75\n",
      "Pessoa : Fábio Roberto incluído com Sucesso\n",
      "Ajustar - Data de Nascimento : 18/01/1978 Idade apurada : 42\n",
      "Pessoa : Evelyn Julia incluído com Sucesso\n",
      "Ajustar - Data de Nascimento : 04/01/1988 Idade apurada : 32\n",
      "Pessoa : Otávio Cláudio incluído com Sucesso\n"
     ]
    }
   ],
   "source": [
    "#tratar a tabela pessoa\n",
    "for dados in data:\n",
    "    \n",
    "    idade = dados['idade']\n",
    "    if len(dados['data_nasc']) != 5:\n",
    "        datanasc = datetime.strptime(dados['data_nasc'], '%d/%m/%Y').date()\n",
    "    \n",
    "    indexador += 1\n",
    "    #consistencia entre features\n",
    "    if ((dados['idade'] == None) and (len(dados['data_nasc']) == 5)):\n",
    "        print(\"Problema sério para apuração de valores futuros\")\n",
    "        break\n",
    "    \n",
    "    #aqui ocorre a normalização da idade com base na data de nascimento x dia de hoje\n",
    "    if dados['idade'] == None:\n",
    "        #converter a data_nasc para o formato datetime\n",
    "        datanasc = datetime.strptime(dados['data_nasc'], '%d/%m/%Y').date()\n",
    "        #uso da função extraida da internet\n",
    "        idade = num_years(datanasc, data_atual)\n",
    "        print(\"Ajustar - Data de Nascimento : \" + dados['data_nasc'] + \" Idade apurada : \" + str(idade))\n",
    "            \n",
    "    #aqui ocorre a normalização da data de nascimentoe com base na idade\n",
    "    if len(dados['data_nasc']) == 5:\n",
    "        #concatenação grosseira para apenas definir qual seria a data de aniversário no ano de 2020\n",
    "        dataaniversario = dados['data_nasc'] + '/' + str(data_atual.year)\n",
    "        #agora vou subtrair a idade do ano corrente\n",
    "        novoanonasc = data_atual.year - dados['idade']\n",
    "        #possivel data de nascimento\n",
    "        posdatanasc = dados['data_nasc'] + '/' + str(novoanonasc) \n",
    "        #converto a possivel data de nascimento para datetime\n",
    "        datanasc = datetime.strptime(posdatanasc,'%d/%m/%Y').date()\n",
    "        #agora vou verificar se a idade com a data de nascimento projetada confere\n",
    "        #uso da função extraida da internet\n",
    "        idade = num_years(datanasc, data_atual)\n",
    "        #aqui estou ajustando a data de nascimento ( possivelmente por questões e ao bissexto)\n",
    "        if  (idade < int(dados['idade'])):\n",
    "            novoanonasc -= 1\n",
    "            posdatanasc = dados['data_nasc'] + '/' + str(novoanonasc) \n",
    "            datanasc = datetime.strptime(posdatanasc,'%d/%m/%Y').date()\n",
    "            idade = num_years(datanasc, data_atual)\n",
    "            if (idade != int(dados['idade'])):\n",
    "                print(\"Realmente continuo com problema na data de nascimento\")\n",
    "                print(\"Nome da Pessoa para análise: \" + dados['nome'])\n",
    "            \n",
    "        if  (idade > int(dados['idade'])):\n",
    "            novoanonasc += 1\n",
    "            posdatanasc = dados['data_nasc'] + '/' + str(novoanonasc) \n",
    "            datanasc = datetime.strptime(posdatanasc,'%d/%m/%Y').date()\n",
    "            idade = num_years(datanasc, data_atual)\n",
    "            if (idade != int(dados['idade'])):\n",
    "                print(\"Realmente continuo com problema na data de nascimento\")\n",
    "                print(\"Nome da Pessoa para análise: \" + dados['nome'])\n",
    "            \n",
    "        print(\"Ajustar -  Data de Nascimento possivel : \" + posdatanasc + \" Idade : \" + str(dados['idade']))\n",
    "    \n",
    "    #gravar o registro da pessoa\n",
    "    getindicecidade        = lista_ordenada_cidade.index(dados['cidade']) + 1\n",
    "    getindicecor           = lista_ordenada_cor.index(dados['cor']) + 1\n",
    "    getindicetiposanguineo = lista_ordenada_tiposanguineo.index(dados['tipo_sanguineo']) + 1\n",
    "    #faco isso porque no schema a feature sexo é de apenas uma posição \n",
    "    sexo                   = dados['sexo'][0]\n",
    "    #usando expressao regular para substituir a virgula por ponto para transformar em float\n",
    "    dados['altura']        = re.sub(r'\\,\\b', '.', dados['altura'])\n",
    "    \n",
    "    myconexao = ds.conexaodb('localhost','root','fvrg55472','bootcamp')\n",
    "    ds.inseretbPessoa(myconexao, dados['nome'], int(idade), datanasc, sexo, dados['signo'], float(dados['altura']), \\\n",
    "                      float(dados['peso']), getindicecidade, getindicecor, getindicetiposanguineo)\n",
    "    print(\"Pessoa : \" + dados['nome'] + \" incluído com Sucesso\")\n",
    "\n",
    "\n"
   ]
  },
  {
   "cell_type": "code",
   "execution_count": 21,
   "metadata": {},
   "outputs": [
    {
     "name": "stdout",
     "output_type": "stream",
     "text": [
      "Conexão encerrada\n"
     ]
    }
   ],
   "source": [
    "#encerra a conexao\n",
    "try:\n",
    "    myconexao.close()\n",
    "    print(\"Conexão encerrada\")\n",
    "except Exception as e:\n",
    "    print(e.args)"
   ]
  },
  {
   "cell_type": "code",
   "execution_count": null,
   "metadata": {},
   "outputs": [],
   "source": [
    "'''\n",
    "#questao 1\n",
    "#select count(idade) from bootcamp.tb_pessoa where idade >= 50\n",
    "\n",
    "#questao 2\n",
    "select avg(idade) from bootcamp.tb_pessoa as pessoa, bootcamp.tb_cidade as cidade,\n",
    "bootcamp.tb_estado as estado where (pessoa.id_cidade = cidade.id) and\n",
    "(cidade.id_estado = estado.id) and (estado.sigla = 'MT')\n",
    "\n",
    "#questão 3\n",
    "select count(data_nasc) from bootcamp.tb_pessoa\n",
    "where (data_nasc > '1967-12-31') and (data_nasc < '1979-01-01')\n",
    "\n",
    "#questão 4\n",
    "select count(*) from bootcamp.tb_pessoa inner join\n",
    "bootcamp.tb_tiposanguineo on bootcamp.tb_pessoa.id_tiposanguineo =\n",
    "bootcamp.tb_tiposanguineo.id inner join bootcamp.tb_cidade on\n",
    "bootcamp.tb_pessoa.id_cidade = bootcamp.tb_cidade.id inner join\n",
    "bootcamp.tb_estado on bootcamp.tb_cidade.id_estado = bootcamp.tb_estado.id where\n",
    "bootcamp.tb_tiposanguineo.tipo like \"AB-\" and \n",
    "(bootcamp.tb_estado.sigla like \"AP\" or bootcamp.tb_estado.sigla like \"PE\")\n",
    "\n",
    "#questao 5\n",
    "select nome, idade, data_nasc from bootcamp.tb_pessoa order by idade desc, datanasc asc limit 1\n",
    "\n",
    "#questao 6\n",
    "select nome, idade, data_nasc from bootcamp.tb_pessoa order by idade asc limit 1\n",
    "\n",
    "\n",
    "'''\n",
    "\n"
   ]
  }
 ],
 "metadata": {
  "kernelspec": {
   "display_name": "Python 3",
   "language": "python",
   "name": "python3"
  },
  "language_info": {
   "codemirror_mode": {
    "name": "ipython",
    "version": 3
   },
   "file_extension": ".py",
   "mimetype": "text/x-python",
   "name": "python",
   "nbconvert_exporter": "python",
   "pygments_lexer": "ipython3",
   "version": "3.8.3"
  }
 },
 "nbformat": 4,
 "nbformat_minor": 4
}
